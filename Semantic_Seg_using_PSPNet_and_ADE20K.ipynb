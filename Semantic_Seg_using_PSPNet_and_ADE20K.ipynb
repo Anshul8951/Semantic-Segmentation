{
  "cells": [
    {
      "cell_type": "code",
      "source": [
        "!pip install git+https://github.com/qubvel/segmentation_models.pytorch"
      ],
      "metadata": {
        "id": "nxATgrh9kq8j",
        "colab": {
          "base_uri": "https://localhost:8080/"
        },
        "outputId": "f3fa0c8e-81b1-43a9-c7a7-908baf8ca037"
      },
      "execution_count": null,
      "outputs": [
        {
          "output_type": "stream",
          "name": "stdout",
          "text": [
            "Looking in indexes: https://pypi.org/simple, https://us-python.pkg.dev/colab-wheels/public/simple/\n",
            "Collecting git+https://github.com/qubvel/segmentation_models.pytorch\n",
            "  Cloning https://github.com/qubvel/segmentation_models.pytorch to /tmp/pip-req-build-ebl2ej38\n",
            "  Running command git clone -q https://github.com/qubvel/segmentation_models.pytorch /tmp/pip-req-build-ebl2ej38\n",
            "  Installing build dependencies ... \u001b[?25l\u001b[?25hdone\n",
            "  Getting requirements to build wheel ... \u001b[?25l\u001b[?25hdone\n",
            "    Preparing wheel metadata ... \u001b[?25l\u001b[?25hdone\n",
            "Requirement already satisfied: pretrainedmodels==0.7.4 in /usr/local/lib/python3.7/dist-packages (from segmentation-models-pytorch==0.3.0.dev0) (0.7.4)\n",
            "Requirement already satisfied: tqdm in /usr/local/lib/python3.7/dist-packages (from segmentation-models-pytorch==0.3.0.dev0) (4.64.0)\n",
            "Requirement already satisfied: timm==0.4.12 in /usr/local/lib/python3.7/dist-packages (from segmentation-models-pytorch==0.3.0.dev0) (0.4.12)\n",
            "Requirement already satisfied: efficientnet-pytorch==0.6.3 in /usr/local/lib/python3.7/dist-packages (from segmentation-models-pytorch==0.3.0.dev0) (0.6.3)\n",
            "Requirement already satisfied: pillow in /usr/local/lib/python3.7/dist-packages (from segmentation-models-pytorch==0.3.0.dev0) (7.1.2)\n",
            "Requirement already satisfied: torchvision>=0.5.0 in /usr/local/lib/python3.7/dist-packages (from segmentation-models-pytorch==0.3.0.dev0) (0.13.0+cu113)\n",
            "Requirement already satisfied: torch in /usr/local/lib/python3.7/dist-packages (from efficientnet-pytorch==0.6.3->segmentation-models-pytorch==0.3.0.dev0) (1.12.0+cu113)\n",
            "Requirement already satisfied: munch in /usr/local/lib/python3.7/dist-packages (from pretrainedmodels==0.7.4->segmentation-models-pytorch==0.3.0.dev0) (2.5.0)\n",
            "Requirement already satisfied: typing-extensions in /usr/local/lib/python3.7/dist-packages (from torch->efficientnet-pytorch==0.6.3->segmentation-models-pytorch==0.3.0.dev0) (4.1.1)\n",
            "Requirement already satisfied: numpy in /usr/local/lib/python3.7/dist-packages (from torchvision>=0.5.0->segmentation-models-pytorch==0.3.0.dev0) (1.21.6)\n",
            "Requirement already satisfied: requests in /usr/local/lib/python3.7/dist-packages (from torchvision>=0.5.0->segmentation-models-pytorch==0.3.0.dev0) (2.23.0)\n",
            "Requirement already satisfied: six in /usr/local/lib/python3.7/dist-packages (from munch->pretrainedmodels==0.7.4->segmentation-models-pytorch==0.3.0.dev0) (1.15.0)\n",
            "Requirement already satisfied: urllib3!=1.25.0,!=1.25.1,<1.26,>=1.21.1 in /usr/local/lib/python3.7/dist-packages (from requests->torchvision>=0.5.0->segmentation-models-pytorch==0.3.0.dev0) (1.24.3)\n",
            "Requirement already satisfied: idna<3,>=2.5 in /usr/local/lib/python3.7/dist-packages (from requests->torchvision>=0.5.0->segmentation-models-pytorch==0.3.0.dev0) (2.10)\n",
            "Requirement already satisfied: chardet<4,>=3.0.2 in /usr/local/lib/python3.7/dist-packages (from requests->torchvision>=0.5.0->segmentation-models-pytorch==0.3.0.dev0) (3.0.4)\n",
            "Requirement already satisfied: certifi>=2017.4.17 in /usr/local/lib/python3.7/dist-packages (from requests->torchvision>=0.5.0->segmentation-models-pytorch==0.3.0.dev0) (2022.6.15)\n"
          ]
        }
      ]
    },
    {
      "cell_type": "code",
      "source": [
        "!pip install git+https://github.com/PytorchLightning/pytorch-lightning.git@release/1.5.x --upgrade"
      ],
      "metadata": {
        "id": "H3ryHsA3k02U"
      },
      "execution_count": null,
      "outputs": []
    },
    {
      "cell_type": "code",
      "source": [
        "# from google.colab import drive\n",
        "# drive.mount('/content/drive')"
      ],
      "metadata": {
        "id": "BmrrOJybvBM4"
      },
      "execution_count": null,
      "outputs": []
    },
    {
      "cell_type": "code",
      "execution_count": null,
      "metadata": {
        "id": "iKiMzw2t6ika"
      },
      "outputs": [],
      "source": [
        "import os\n",
        "import torch\n",
        "import matplotlib.pyplot as plt\n",
        "import pytorch_lightning as pl\n",
        "import segmentation_models_pytorch as smp\n",
        "\n",
        "from pprint import pprint\n",
        "from torch.utils.data import DataLoader, Dataset\n",
        "import torchvision.transforms as transforms\n",
        "import random\n",
        "from PIL import Image\n",
        "import numpy as np"
      ]
    },
    {
      "cell_type": "markdown",
      "metadata": {
        "id": "H4RKHF535Twz"
      },
      "source": [
        "## Dataset"
      ]
    },
    {
      "cell_type": "code",
      "source": [
        "#!unzip /content/drive/MyDrive/AI_Summer_Project/data_semantics.zip -d /content/drive/MyDrive/AI_Summer_Project/"
      ],
      "metadata": {
        "id": "8wyiB7Iku6ne"
      },
      "execution_count": null,
      "outputs": []
    },
    {
      "cell_type": "code",
      "source": [
        "DEFAULT_VALID_LABEL = 120"
      ],
      "metadata": {
        "id": "nbJ3SCnzw6zQ"
      },
      "execution_count": null,
      "outputs": []
    },
    {
      "cell_type": "code",
      "source": [
        "# Sweep parameters\n",
        "hyperparameter_defaults = {\n",
        "    'data_path' : '/content/drive/MyDrive/AI_Summer_Project',\n",
        "    'batch_size' : 2\n",
        "}"
      ],
      "metadata": {
        "id": "SJ3UDWi1zK0C"
      },
      "execution_count": null,
      "outputs": []
    },
    {
      "cell_type": "code",
      "source": [
        "class KITTI(Dataset):\n",
        "    '''\n",
        "    Dataset Class for KITTI Semantic Segmentation Benchmark dataset\n",
        "    Dataset link - http://www.cvlibs.net/datasets/kitti/eval_semseg.php?benchmark=semantics2015\n",
        "    There are 34 classes in the given labels. However, not all of them are useful for training\n",
        "    (like railings on highways, road dividers, etc.).\n",
        "    So, these useless classes (the pixel values of these classes) are stored in the `void_labels`.\n",
        "    The useful classes are stored in the `valid_labels`.\n",
        "    The `encode_segmap` function sets all pixels with any of the `void_labels` to `ignore_index`\n",
        "    (250 by default). It also sets all of the valid pixels to the appropriate value between 0 and\n",
        "    `len(valid_labels)` (since that is the number of valid classes), so it can be used properly by\n",
        "    the loss function when comparing with the output.\n",
        "    The `get_filenames` function retrieves the filenames of all images in the given `path` and\n",
        "    saves the absolute path in a list.\n",
        "    In the `get_item` function, images and masks are resized to the given `img_size`, masks are\n",
        "    encoded using `encode_segmap`, and given `transform` (if any) are applied to the image only\n",
        "    (mask does not usually require transforms, but they can be implemented in a similar way).\n",
        "    '''\n",
        "    IMAGE_PATH = os.path.join('training', 'image_2')\n",
        "    MASK_PATH = os.path.join('training', 'semantic_rgb')\n",
        "\n",
        "    def __init__(\n",
        "        self,\n",
        "        data_path,\n",
        "        split,\n",
        "        img_size=(1248, 384),\n",
        "        valid_label=DEFAULT_VALID_LABEL,\n",
        "        transform=None,\n",
        "    ):\n",
        "        \n",
        "        self.img_size = img_size\n",
        "        self.valid_label = valid_label\n",
        "        self.ignore_index = 0\n",
        "        self.valid_index = 1\n",
        "        self.transform = transform\n",
        "\n",
        "        self.split = split\n",
        "        self.data_path = data_path\n",
        "        self.img_path = os.path.join(self.data_path, 'training/image_2')\n",
        "        self.mask_path = os.path.join(self.data_path, 'training/semantic_rgb')\n",
        "        self.img_list = self.get_filenames(self.img_path)\n",
        "        self.mask_list = self.get_filenames(self.mask_path)\n",
        "\n",
        "        # Split between train and valid set\n",
        "        random_inst = random.Random(12345)  # for repeatability\n",
        "        n_items = len(self.img_list)\n",
        "        idxs = random_inst.sample(range(n_items), n_items // 5)\n",
        "        if self.split == 'train': idxs = [idx for idx in range(n_items) if idx not in idxs]\n",
        "        self.img_list = [self.img_list[i] for i in idxs]\n",
        "        self.mask_list = [self.mask_list[i] for i in idxs]        \n",
        "\n",
        "    def __len__(self):\n",
        "        return(len(self.img_list))\n",
        "\n",
        "    def __getitem__(self, idx):\n",
        "        img = Image.open(self.img_list[idx])\n",
        "        img = img.resize(self.img_size)\n",
        "        img = np.array(img)\n",
        "\n",
        "        mask = Image.open(self.mask_list[idx]).convert('L')\n",
        "        mask = mask.resize(self.img_size)\n",
        "        mask = np.array(mask)\n",
        "        mask = self.encode_segmap(mask)\n",
        "        mask = np.resize(mask,(1,self.img_size[1],self.img_size[0]))\n",
        "\n",
        "        if self.transform:\n",
        "            img = self.transform(img)\n",
        "\n",
        "        return img, mask\n",
        "\n",
        "    def encode_segmap(self, mask):\n",
        "        '''\n",
        "        Sets void classes to zero so they won't be considered for training\n",
        "        '''\n",
        "        mask[mask!=self.valid_label]=self.ignore_index\n",
        "        mask[mask!=self.ignore_index]=self.valid_index\n",
        "        return mask\n",
        "\n",
        "    def get_filenames(self, path):\n",
        "        '''\n",
        "        Returns a list of absolute paths to images inside given `path`\n",
        "        '''\n",
        "        files_list = list()\n",
        "        dir_files_list = sorted(os.listdir(path))\n",
        "        for filename in dir_files_list:\n",
        "            files_list.append(os.path.join(path, filename))\n",
        "        return files_list\n"
      ],
      "metadata": {
        "id": "BOonS_FNvd3u"
      },
      "execution_count": null,
      "outputs": []
    },
    {
      "cell_type": "code",
      "source": [
        "class KittiDataModule(pl.LightningDataModule):\n",
        "    '''\n",
        "    Kitti Data Module\n",
        "    It is specific to KITTI dataset i.e. dataloaders are for KITTI\n",
        "    and Normalize transform uses the mean and standard deviation of this dataset.\n",
        "    '''\n",
        "\n",
        "    def __init__(self, hparams):\n",
        "        super().__init__()\n",
        "        self.data_path = hparams['data_path']\n",
        "        self.batch_size = hparams['batch_size']\n",
        "        self.transform = transforms.Compose([\n",
        "            transforms.ToTensor(),\n",
        "            transforms.Normalize(mean=[0.35675976, 0.37380189, 0.3764753],\n",
        "                                 std=[0.32064945, 0.32098866, 0.32325324])\n",
        "        ])\n",
        "        self.setup()\n",
        "    \n",
        "    def setup(self, stage=None):\n",
        "        self.trainset = KITTI(self.data_path, split='train', transform=self.transform)\n",
        "        self.validset = KITTI(self.data_path, split='valid', transform=self.transform)\n",
        "    \n",
        "    def train_dataloader(self):\n",
        "        return DataLoader(self.trainset, batch_size=self.batch_size, shuffle=True)\n",
        "\n",
        "    def val_dataloader(self):\n",
        "        return DataLoader(self.validset, batch_size=self.batch_size, shuffle=False)"
      ],
      "metadata": {
        "id": "C-YsVvF6yFmm"
      },
      "execution_count": null,
      "outputs": []
    },
    {
      "cell_type": "code",
      "source": [
        "kittiData = KittiDataModule(hyperparameter_defaults)"
      ],
      "metadata": {
        "id": "-V_5vGoJzbEK"
      },
      "execution_count": null,
      "outputs": []
    },
    {
      "cell_type": "code",
      "source": [
        "\n",
        "\n",
        "train_dataloader = kittiData.train_dataloader()\n",
        "valid_dataloader = kittiData.val_dataloader()\n",
        "\n",
        "train_dataset = kittiData.trainset\n",
        "valid_dataset = kittiData.validset\n",
        "\n",
        "print(len(train_dataset))\n",
        "print(len(valid_dataset))"
      ],
      "metadata": {
        "id": "KVJhjh9S2WV-"
      },
      "execution_count": null,
      "outputs": []
    },
    {
      "cell_type": "code",
      "execution_count": null,
      "metadata": {
        "id": "O4nq08ILaYhn"
      },
      "outputs": [],
      "source": [
        "# lets look at some samples\n",
        "\n",
        "sample = train_dataset[1]\n",
        "plt.subplot(1,2,1)\n",
        "plt.imshow(sample[0].permute(1, 2, 0)) # for visualization we have to transpose back to HWC\n",
        "plt.subplot(1,2,2)\n",
        "plt.imshow(sample[1].squeeze())  # for visualization we have to remove 3rd dimension of mask\n",
        "plt.show()\n",
        "\n",
        "print(sample[0].shape)\n",
        "print(sample[0].permute(1, 2, 0).shape)\n",
        "print(sample[1].shape)\n",
        "print(sample[1].squeeze().shape)\n",
        "\n",
        "sample = valid_dataset[0]\n",
        "plt.subplot(1,2,1)\n",
        "plt.imshow(sample[0].permute(1, 2, 0)) # for visualization we have to transpose back to HWC\n",
        "plt.subplot(1,2,2)\n",
        "plt.imshow(sample[1].squeeze())  # for visualization we have to remove 3rd dimension of mask\n",
        "plt.show()"
      ]
    },
    {
      "cell_type": "code",
      "source": [
        "# # sample = train_dataset[0]\n",
        "# # plt.subplot(1,2,1)\n",
        "# # plt.imshow(sample[0].permute(1, 2, 0)) # for visualization we have to transpose back to HWC\n",
        "# # plt.subplot(1,2,2)\n",
        "# # plt.imshow(sample[1].squeeze())  # for visualization we have to remove 3rd dimension of mask\n",
        "# # plt.show()\n",
        "\n",
        "# k = 10\n",
        "\n",
        "# mask = train_dataset[k][0]\n",
        "# plt.imshow(mask.permute(1, 2, 0))  # for visualization we have to remove 3rd dimension of mask\n",
        "# plt.show()\n",
        "\n",
        "# mask = train_dataset[k][1]\n",
        "# plt.imshow(mask.squeeze())  # for visualization we have to remove 3rd dimension of mask\n",
        "# plt.show()\n",
        "\n",
        "\n",
        "# x = mask.shape[1]\n",
        "# y = mask.shape[2]\n",
        "\n",
        "# #lst = np.unique(mask)\n",
        "# lst = np.array([120])\n",
        "\n",
        "# for k in range(len(train_dataset)):\n",
        "#   mask = train_dataset[k][0]\n",
        "#   plt.imshow(mask.permute(1, 2, 0))  # for visualization we have to remove 3rd dimension of mask\n",
        "#   plt.show()\n",
        "\n",
        "#   mask = train_dataset[k][1]\n",
        "#   plt.imshow(mask.squeeze())  # for visualization we have to remove 3rd dimension of mask\n",
        "#   plt.show()\n",
        "\n",
        "#   for i in lst:\n",
        "#     print(i)\n",
        "#     for xi in range(x):\n",
        "#       for yi in range(y):\n",
        "#         if mask[0][xi][yi]!=i:\n",
        "#           mask[0][xi][yi]=0\n",
        "#     plt.imshow(mask.squeeze())  # for visualization we have to remove 3rd dimension of mask\n",
        "#     plt.show()"
      ],
      "metadata": {
        "id": "Klg5hkl8rCAY"
      },
      "execution_count": null,
      "outputs": []
    },
    {
      "cell_type": "code",
      "source": [
        "import albumentations as albu"
      ],
      "metadata": {
        "id": "uaApFrtEOJ-c"
      },
      "execution_count": null,
      "outputs": []
    },
    {
      "cell_type": "code",
      "source": [
        "def get_training_augmentation():\n",
        "    train_transform = [\n",
        "\n",
        "        albu.HorizontalFlip(p=0.5),\n",
        "\n",
        "        albu.ShiftScaleRotate(scale_limit=0.5, rotate_limit=0, shift_limit=0.1, p=1, border_mode=0),\n",
        "\n",
        "        albu.PadIfNeeded(min_height=320, min_width=320, always_apply=True, border_mode=0),\n",
        "        albu.RandomCrop(height=320, width=320, always_apply=True),\n",
        "\n",
        "        albu.IAAAdditiveGaussianNoise(p=0.2),\n",
        "        albu.IAAPerspective(p=0.5),\n",
        "\n",
        "        albu.OneOf(\n",
        "            [\n",
        "                albu.CLAHE(p=1),\n",
        "                albu.RandomBrightness(p=1),\n",
        "                albu.RandomGamma(p=1),\n",
        "            ],\n",
        "            p=0.9,\n",
        "        ),\n",
        "\n",
        "        albu.OneOf(\n",
        "            [\n",
        "                albu.IAASharpen(p=1),\n",
        "                albu.Blur(blur_limit=3, p=1),\n",
        "                albu.MotionBlur(blur_limit=3, p=1),\n",
        "            ],\n",
        "            p=0.9,\n",
        "        ),\n",
        "\n",
        "        albu.OneOf(\n",
        "            [\n",
        "                albu.RandomContrast(p=1),\n",
        "                albu.HueSaturationValue(p=1),\n",
        "            ],\n",
        "            p=0.9,\n",
        "        ),\n",
        "    ]\n",
        "    return albu.Compose(train_transform)\n",
        "\n",
        "\n",
        "def get_validation_augmentation():\n",
        "    \"\"\"Add paddings to make image shape divisible by 32\"\"\"\n",
        "    test_transform = [\n",
        "        albu.PadIfNeeded(384, 480)\n",
        "    ]\n",
        "    return albu.Compose(test_transform)\n",
        "\n",
        "\n",
        "def to_tensor(x, **kwargs):\n",
        "    return x.transpose(2, 0, 1).astype('float32')\n",
        "\n",
        "\n",
        "def get_preprocessing(preprocessing_fn):\n",
        "    \"\"\"Construct preprocessing transform\n",
        "    \n",
        "    Args:\n",
        "        preprocessing_fn (callbale): data normalization function \n",
        "            (can be specific for each pretrained neural network)\n",
        "    Return:\n",
        "        transform: albumentations.Compose\n",
        "    \n",
        "    \"\"\"\n",
        "    \n",
        "    _transform = [\n",
        "        albu.Lambda(image=preprocessing_fn),\n",
        "        albu.Lambda(image=to_tensor, mask=to_tensor),\n",
        "    ]\n",
        "    return albu.Compose(_transform)"
      ],
      "metadata": {
        "id": "b-CfK_wnOKxR"
      },
      "execution_count": null,
      "outputs": []
    },
    {
      "cell_type": "markdown",
      "metadata": {
        "id": "jg4_bxKV5BaQ"
      },
      "source": [
        "## Model"
      ]
    },
    {
      "cell_type": "code",
      "execution_count": null,
      "metadata": {
        "id": "PeGCIYNlVx5y"
      },
      "outputs": [],
      "source": [
        "class PetModel(pl.LightningModule):\n",
        "\n",
        "    def __init__(self, arch, encoder_name, in_channels, out_classes, **kwargs):\n",
        "        super().__init__()\n",
        "        self.model = smp.create_model(\n",
        "            arch, encoder_name=encoder_name, in_channels=in_channels, classes=out_classes, **kwargs\n",
        "        )\n",
        "\n",
        "        # preprocessing parameteres for image\n",
        "        params = smp.encoders.get_preprocessing_params(encoder_name)\n",
        "        self.register_buffer(\"std\", torch.tensor(params[\"std\"]).view(1, 3, 1, 1))\n",
        "        self.register_buffer(\"mean\", torch.tensor(params[\"mean\"]).view(1, 3, 1, 1))\n",
        "\n",
        "        # for image segmentation dice loss could be the best first choice\n",
        "        self.loss_fn = smp.losses.DiceLoss(smp.losses.BINARY_MODE, from_logits=True)\n",
        "\n",
        "    def forward(self, image):\n",
        "        # normalize image here\n",
        "        image = (image - self.mean) / self.std\n",
        "        mask = self.model(image)\n",
        "        return mask\n",
        "\n",
        "    def shared_step(self, batch, stage):\n",
        "        \n",
        "        image = batch[0]\n",
        "\n",
        "        # Shape of the image should be (batch_size, num_channels, height, width)\n",
        "        # if you work with grayscale images, expand channels dim to have [batch_size, 1, height, width]\n",
        "        assert image.ndim == 4\n",
        "\n",
        "        # Check that image dimensions are divisible by 32, \n",
        "        # encoder and decoder connected by `skip connections` and usually encoder have 5 stages of \n",
        "        # downsampling by factor 2 (2 ^ 5 = 32); e.g. if we have image with shape 65x65 we will have \n",
        "        # following shapes of features in encoder and decoder: 84, 42, 21, 10, 5 -> 5, 10, 20, 40, 80\n",
        "        # and we will get an error trying to concat these features\n",
        "        h, w = image.shape[2:]\n",
        "        assert h % 32 == 0 and w % 32 == 0\n",
        "\n",
        "        mask = batch[1]\n",
        "\n",
        "        # Shape of the mask should be [batch_size, num_classes, height, width]\n",
        "        # for binary segmentation num_classes = 1\n",
        "        assert mask.ndim == 4\n",
        "\n",
        "        # Check that mask values in between 0 and 1, NOT 0 and 255 for binary segmentation\n",
        "        assert mask.max() <= 1.0 and mask.min() >= 0\n",
        "\n",
        "        logits_mask = self.forward(image)\n",
        "        \n",
        "        # Predicted mask contains logits, and loss_fn param `from_logits` is set to True\n",
        "        loss = self.loss_fn(logits_mask, mask)\n",
        "\n",
        "        # Lets compute metrics for some threshold\n",
        "        # first convert mask values to probabilities, then \n",
        "        # apply thresholding\n",
        "        prob_mask = logits_mask.sigmoid()\n",
        "        pred_mask = (prob_mask > 0.5).float()\n",
        "\n",
        "        # We will compute IoU metric by two ways\n",
        "        #   1. dataset-wise\n",
        "        #   2. image-wise\n",
        "        # but for now we just compute true positive, false positive, false negative and\n",
        "        # true negative 'pixels' for each image and class\n",
        "        # these values will be aggregated in the end of an epoch\n",
        "        tp, fp, fn, tn = smp.metrics.get_stats(pred_mask.long(), mask.long(), mode=\"binary\")\n",
        "\n",
        "        return {\n",
        "            \"loss\": loss,\n",
        "            \"tp\": tp,\n",
        "            \"fp\": fp,\n",
        "            \"fn\": fn,\n",
        "            \"tn\": tn,\n",
        "        }\n",
        "\n",
        "    def shared_epoch_end(self, outputs, stage):\n",
        "        # aggregate step metics\n",
        "        tp = torch.cat([x[\"tp\"] for x in outputs])\n",
        "        fp = torch.cat([x[\"fp\"] for x in outputs])\n",
        "        fn = torch.cat([x[\"fn\"] for x in outputs])\n",
        "        tn = torch.cat([x[\"tn\"] for x in outputs])\n",
        "\n",
        "        # per image IoU means that we first calculate IoU score for each image \n",
        "        # and then compute mean over these scores\n",
        "        per_image_iou = smp.metrics.iou_score(tp, fp, fn, tn, reduction=\"micro-imagewise\")\n",
        "        \n",
        "        # dataset IoU means that we aggregate intersection and union over whole dataset\n",
        "        # and then compute IoU score. The difference between dataset_iou and per_image_iou scores\n",
        "        # in this particular case will not be much, however for dataset \n",
        "        # with \"empty\" images (images without target class) a large gap could be observed. \n",
        "        # Empty images influence a lot on per_image_iou and much less on dataset_iou.\n",
        "        dataset_iou = smp.metrics.iou_score(tp, fp, fn, tn, reduction=\"micro\")\n",
        "\n",
        "        metrics = {\n",
        "            f\"{stage}_per_image_iou\": per_image_iou,\n",
        "            f\"{stage}_dataset_iou\": dataset_iou,\n",
        "        }\n",
        "        \n",
        "        self.log_dict(metrics, prog_bar=True)\n",
        "\n",
        "    def training_step(self, batch, batch_idx):\n",
        "        return self.shared_step(batch, \"train\")            \n",
        "\n",
        "    def training_epoch_end(self, outputs):\n",
        "        return self.shared_epoch_end(outputs, \"train\")\n",
        "\n",
        "    def validation_step(self, batch, batch_idx):\n",
        "        return self.shared_step(batch, \"valid\")\n",
        "\n",
        "    def validation_epoch_end(self, outputs):\n",
        "        return self.shared_epoch_end(outputs, \"valid\")\n",
        "\n",
        "    def test_step(self, batch, batch_idx):\n",
        "        return self.shared_step(batch, \"test\")  \n",
        "\n",
        "    def test_epoch_end(self, outputs):\n",
        "        return self.shared_epoch_end(outputs, \"test\")\n",
        "\n",
        "    def configure_optimizers(self):\n",
        "        return torch.optim.Adam(self.parameters(), lr=0.0001)"
      ]
    },
    {
      "cell_type": "code",
      "execution_count": null,
      "metadata": {
        "id": "8d_wsmYArTt6"
      },
      "outputs": [],
      "source": [
        "model = PetModel(\"FPN\", \"resnet34\", in_channels=3, out_classes=1)"
      ]
    },
    {
      "cell_type": "markdown",
      "metadata": {
        "id": "v-YUI8oH-sfL"
      },
      "source": [
        "## Training"
      ]
    },
    {
      "cell_type": "code",
      "source": [
        "from pytorch_lightning.loggers import TensorBoardLogger\n",
        "\n",
        "logger = TensorBoardLogger(save_dir='/content/drive/MyDrive/AI_Summer_Project', name=\"DeepLabV3Plus\")"
      ],
      "metadata": {
        "id": "DIQiwyy7dR_g"
      },
      "execution_count": null,
      "outputs": []
    },
    {
      "cell_type": "code",
      "execution_count": null,
      "metadata": {
        "id": "WvKlqPH6sKtz"
      },
      "outputs": [],
      "source": [
        "trainer = pl.Trainer(\n",
        "    gpus=1, \n",
        "    max_epochs=5,\n",
        "    logger=logger\n",
        ")\n",
        "\n",
        "trainer.fit(\n",
        "    model, \n",
        "    train_dataloaders=train_dataloader, \n",
        "    val_dataloaders=valid_dataloader,\n",
        ")"
      ]
    },
    {
      "cell_type": "markdown",
      "metadata": {
        "id": "ZFmMfqSe3tv3"
      },
      "source": [
        "## Validation and test metrics"
      ]
    },
    {
      "cell_type": "code",
      "execution_count": null,
      "metadata": {
        "id": "WM4B8hSvy1kl"
      },
      "outputs": [],
      "source": [
        "# run validation dataset\n",
        "valid_metrics = trainer.validate(model, dataloaders=valid_dataloader, verbose=False)\n",
        "pprint(valid_metrics)"
      ]
    },
    {
      "cell_type": "markdown",
      "metadata": {
        "id": "9H5oTdUc3hb9"
      },
      "source": [
        "# Result visualization"
      ]
    },
    {
      "cell_type": "code",
      "execution_count": null,
      "metadata": {
        "id": "8CUYlGTp00Fb"
      },
      "outputs": [],
      "source": [
        "for batch in valid_dataloader:\n",
        "  #batch = next(iter(valid_dataloader))\n",
        "  with torch.no_grad():\n",
        "      model.eval()\n",
        "      logits = model(batch[0])\n",
        "  pr_masks = logits.sigmoid()\n",
        "\n",
        "  for image, gt_mask, pr_mask in zip(batch[0], batch[1], pr_masks):\n",
        "      plt.figure(figsize=(10, 5))\n",
        "\n",
        "      plt.subplot(1, 3, 1)\n",
        "      plt.imshow(image.numpy().transpose(1, 2, 0))  # convert CHW -> HWC\n",
        "      plt.title(\"Image\")\n",
        "      plt.axis(\"off\")\n",
        "\n",
        "      plt.subplot(1, 3, 2)\n",
        "      plt.imshow(gt_mask.numpy().squeeze()) # just squeeze classes dim, because we have only one class\n",
        "      plt.title(\"Ground truth\")\n",
        "      plt.axis(\"off\")\n",
        "\n",
        "      plt.subplot(1, 3, 3)\n",
        "      plt.imshow(pr_mask.numpy().squeeze()) # just squeeze classes dim, because we have only one class\n",
        "      plt.title(\"Prediction\")\n",
        "      plt.axis(\"off\")\n",
        "\n",
        "      plt.show()"
      ]
    }
  ],
  "metadata": {
    "accelerator": "GPU",
    "colab": {
      "collapsed_sections": [],
      "provenance": []
    },
    "kernelspec": {
      "display_name": "Python 3",
      "name": "python3"
    },
    "language_info": {
      "name": "python"
    },
    "gpuClass": "standard"
  },
  "nbformat": 4,
  "nbformat_minor": 0
}